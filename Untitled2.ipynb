{
  "nbformat": 4,
  "nbformat_minor": 0,
  "metadata": {
    "colab": {
      "provenance": []
    },
    "kernelspec": {
      "name": "python3",
      "display_name": "Python 3"
    },
    "language_info": {
      "name": "python"
    }
  },
  "cells": [
    {
      "cell_type": "code",
      "execution_count": 46,
      "metadata": {
        "colab": {
          "base_uri": "https://localhost:8080/"
        },
        "id": "fYv-ZkoPO29Q",
        "outputId": "c212ea99-fa3d-42d0-fa41-d4b38922c6fc"
      },
      "outputs": [
        {
          "output_type": "stream",
          "name": "stdout",
          "text": [
            "Drive already mounted at /content/drive; to attempt to forcibly remount, call drive.mount(\"/content/drive\", force_remount=True).\n"
          ]
        }
      ],
      "source": [
        "#Import required libraries\n",
        "import pandas as pd\n",
        "import numpy as np\n",
        "import matplotlib.pyplot as plt\n",
        "import seaborn as sns\n",
        "from google.colab import drive\n",
        "\n",
        "# Mount Google Drive\n",
        "drive.mount('/content/drive')\n",
        "\n",
        "#Load the data from Google Drive\n",
        "movies_path = '/content/drive/MyDrive/movies.csv'\n",
        "ratings_path = '/content/drive/MyDrive/ratings.csv'\n",
        "tags_path = '/content/drive/MyDrive/tags.csv'\n",
        "links_path = '/content/drive/MyDrive/links.csv'\n",
        "\n",
        "movies = pd.read_csv(movies_path)\n",
        "ratings = pd.read_csv(ratings_path)\n",
        "tags = pd.read_csv(tags_path)\n",
        "links = pd.read_csv(links_path, dtype={'imdbId': str})\n",
        "\n",
        "\n"
      ]
    },
    {
      "cell_type": "code",
      "source": [
        "#Shape of 'movies.csv'\n",
        "movies_shape = movies.shape\n",
        "movies_shape\n"
      ],
      "metadata": {
        "colab": {
          "base_uri": "https://localhost:8080/"
        },
        "id": "JSP4N_GTg8_n",
        "outputId": "255856a5-ad28-449e-bb1b-fa5e79f26f81"
      },
      "execution_count": 47,
      "outputs": [
        {
          "output_type": "execute_result",
          "data": {
            "text/plain": [
              "(9742, 3)"
            ]
          },
          "metadata": {},
          "execution_count": 47
        }
      ]
    },
    {
      "cell_type": "code",
      "source": [
        "#Shape of 'ratings.csv'\n",
        "ratings_shape = ratings.shape\n",
        "ratings_shape"
      ],
      "metadata": {
        "colab": {
          "base_uri": "https://localhost:8080/"
        },
        "id": "O0tgv6yOhsPt",
        "outputId": "13e665ae-c4db-4450-8fd6-e2514fff6fab"
      },
      "execution_count": 48,
      "outputs": [
        {
          "output_type": "execute_result",
          "data": {
            "text/plain": [
              "(100836, 4)"
            ]
          },
          "metadata": {},
          "execution_count": 48
        }
      ]
    },
    {
      "cell_type": "code",
      "source": [
        "#Number of unique 'userId' in 'ratings.csv'\n",
        "unique_users_count = ratings['userId'].nunique()\n",
        "unique_users_count\n"
      ],
      "metadata": {
        "colab": {
          "base_uri": "https://localhost:8080/"
        },
        "id": "RICsDTfdhvGj",
        "outputId": "4ed9762b-19e5-4b4f-b13b-3372b8029051"
      },
      "execution_count": 49,
      "outputs": [
        {
          "output_type": "execute_result",
          "data": {
            "text/plain": [
              "610"
            ]
          },
          "metadata": {},
          "execution_count": 49
        }
      ]
    },
    {
      "cell_type": "code",
      "source": [
        "#Movie with the maximum number of user ratings\n",
        "movie_rating_counts = ratings.groupby('movieId').size()\n",
        "most_rated_movie_id = movie_rating_counts.idxmax()\n",
        "most_rated_movie = movies[movies['movieId'] == most_rated_movie_id]['title'].values[0]\n",
        "most_rated_movie\n"
      ],
      "metadata": {
        "colab": {
          "base_uri": "https://localhost:8080/",
          "height": 36
        },
        "id": "PF9hau1thwqj",
        "outputId": "09aa30e4-74c4-4d67-8f00-f68437fc6eae"
      },
      "execution_count": 50,
      "outputs": [
        {
          "output_type": "execute_result",
          "data": {
            "text/plain": [
              "'Forrest Gump (1994)'"
            ],
            "application/vnd.google.colaboratory.intrinsic+json": {
              "type": "string"
            }
          },
          "metadata": {},
          "execution_count": 50
        }
      ]
    },
    {
      "cell_type": "code",
      "source": [
        "#Tags for the movie 'Matrix, The (1999)'\n",
        "matrix_movie_id = movies[movies['title'] == 'Matrix, The (1999)']['movieId'].values[0]\n",
        "matrix_tags = tags[tags['movieId'] == matrix_movie_id]['tag'].unique()\n",
        "matrix_tags\n"
      ],
      "metadata": {
        "colab": {
          "base_uri": "https://localhost:8080/"
        },
        "id": "cywkjlGghxzA",
        "outputId": "3b61f047-3dc6-47fe-8600-e647c46db266"
      },
      "execution_count": 51,
      "outputs": [
        {
          "output_type": "execute_result",
          "data": {
            "text/plain": [
              "array(['martial arts', 'sci-fi', 'alternate universe', 'philosophy',\n",
              "       'post apocalyptic'], dtype=object)"
            ]
          },
          "metadata": {},
          "execution_count": 51
        }
      ]
    },
    {
      "cell_type": "code",
      "source": [
        "#Average user rating for 'Terminator 2: Judgment Day (1991)'\n",
        "terminator_movie_id = movies[movies['title'] == 'Terminator 2: Judgment Day (1991)']['movieId'].values[0]\n",
        "average_rating_terminator = ratings[ratings['movieId'] == terminator_movie_id]['rating'].mean()\n",
        "average_rating_terminator\n"
      ],
      "metadata": {
        "colab": {
          "base_uri": "https://localhost:8080/"
        },
        "id": "ulMl53Dthzkf",
        "outputId": "299c7d09-0117-4fec-f82a-27df33d7c362"
      },
      "execution_count": 52,
      "outputs": [
        {
          "output_type": "execute_result",
          "data": {
            "text/plain": [
              "3.970982142857143"
            ]
          },
          "metadata": {},
          "execution_count": 52
        }
      ]
    },
    {
      "cell_type": "code",
      "source": [
        "#Data distribution of user ratings for 'Fight Club (1999)'\n",
        "fight_club_movie_id = movies[movies['title'] == 'Fight Club (1999)']['movieId'].values[0]\n",
        "fight_club_ratings = ratings[ratings['movieId'] == fight_club_movie_id]['rating']\n",
        "sns.histplot(fight_club_ratings, kde=True)\n",
        "plt.title('Distribution of Ratings for Fight Club (1999)')\n",
        "plt.xlabel('Rating')\n",
        "plt.ylabel('Frequency')\n",
        "plt.show()\n"
      ],
      "metadata": {
        "colab": {
          "base_uri": "https://localhost:8080/",
          "height": 472
        },
        "id": "1az-0ykth0-2",
        "outputId": "1eca1987-563a-4ecb-d4af-333d271db135"
      },
      "execution_count": 53,
      "outputs": [
        {
          "output_type": "display_data",
          "data": {
            "text/plain": [
              "<Figure size 640x480 with 1 Axes>"
            ],
            "image/png": "[encoded data removed]"
          },
          "metadata": {}
        }
      ]
    },
    {
      "cell_type": "code",
      "source": [
        "#Mandatory Operation\n",
        "movie_ratings = ratings.groupby('movieId')['rating'].agg(['count', 'mean']).reset_index()\n",
        "popular_movies = movie_ratings[movie_ratings['count'] > 50]\n",
        "popular_movies_with_titles = pd.merge(popular_movies, movies, on='movieId')\n",
        "\n"
      ],
      "metadata": {
        "id": "eg_GWyA2h2ci"
      },
      "execution_count": 54,
      "outputs": []
    },
    {
      "cell_type": "code",
      "source": [
        "\n",
        "#Most popular movie based on average user ratings\n",
        "most_popular_movie_id = popular_movies_with_titles.loc[popular_movies_with_titles['mean'].idxmax(), 'movieId']\n",
        "most_popular_movie = popular_movies_with_titles[popular_movies_with_titles['movieId'] == most_popular_movie_id]['title'].values[0]\n",
        "most_popular_movie"
      ],
      "metadata": {
        "colab": {
          "base_uri": "https://localhost:8080/",
          "height": 36
        },
        "id": "YikFjiJth6Mm",
        "outputId": "b37ebea3-cc27-4b03-b78e-533a65bddcfb"
      },
      "execution_count": 55,
      "outputs": [
        {
          "output_type": "execute_result",
          "data": {
            "text/plain": [
              "'Shawshank Redemption, The (1994)'"
            ],
            "application/vnd.google.colaboratory.intrinsic+json": {
              "type": "string"
            }
          },
          "metadata": {},
          "execution_count": 55
        }
      ]
    },
    {
      "cell_type": "code",
      "source": [
        "#Top 5 popular movies based on number of user ratings\n",
        "top_rated_movies = popular_movies_with_titles.sort_values(by='count', ascending=False).head(5)\n",
        "top_rated_movies_list = top_rated_movies['title'].tolist()\n",
        "top_rated_movies_list\n"
      ],
      "metadata": {
        "colab": {
          "base_uri": "https://localhost:8080/"
        },
        "id": "L0deGWeih63-",
        "outputId": "e00c5856-39bf-4c26-dac1-fd921d97c4a4"
      },
      "execution_count": 56,
      "outputs": [
        {
          "output_type": "execute_result",
          "data": {
            "text/plain": [
              "['Forrest Gump (1994)',\n",
              " 'Shawshank Redemption, The (1994)',\n",
              " 'Pulp Fiction (1994)',\n",
              " 'Silence of the Lambs, The (1991)',\n",
              " 'Matrix, The (1999)']"
            ]
          },
          "metadata": {},
          "execution_count": 56
        }
      ]
    },
    {
      "cell_type": "code",
      "source": [
        "# Third most popular Sci-Fi movie based on number of user ratings\n",
        "# Split genres by '|' and check if 'Sci-Fi' is in the genres\n",
        "movies['genres'] = movies['genres'].str.split('|')\n",
        "sci_fi_movies = popular_movies_with_titles[popular_movies_with_titles['genres'].apply(lambda genres: 'Sci-Fi' in genres)]\n",
        "\n",
        "# Check if there are at least 3 Sci-Fi movies\n",
        "if sci_fi_movies.shape[0] < 3:\n",
        "    third_most_popular_sci_fi_movie = \"Not enough Sci-Fi movies available\"\n",
        "else:\n",
        "    # Sort by number of ratings and get the third most popular\n",
        "    third_most_popular_sci_fi = sci_fi_movies.sort_values(by='count', ascending=False).iloc[2]\n",
        "    third_most_popular_sci_fi_movie_id = third_most_popular_sci_fi['movieId']\n",
        "    third_most_popular_sci_fi_movie = sci_fi_movies[sci_fi_movies['movieId'] == third_most_popular_sci_fi_movie_id]['title'].values[0]\n",
        "\n",
        "third_most_popular_sci_fi_movie\n"
      ],
      "metadata": {
        "colab": {
          "base_uri": "https://localhost:8080/",
          "height": 36
        },
        "id": "mdK32c5fh8ho",
        "outputId": "61818554-838e-4e3d-e6ae-56aa9805efd8"
      },
      "execution_count": 57,
      "outputs": [
        {
          "output_type": "execute_result",
          "data": {
            "text/plain": [
              "'Jurassic Park (1993)'"
            ],
            "application/vnd.google.colaboratory.intrinsic+json": {
              "type": "string"
            }
          },
          "metadata": {},
          "execution_count": 57
        }
      ]
    },
    {
      "cell_type": "code",
      "source": [
        "#IMdb Scraping function\n",
        "\n",
        "import requests\n",
        "from bs4 import BeautifulSoup\n",
        "import json\n",
        "import numpy as np\n",
        "\n",
        "def scrape_imdb_rating(imdb_id):\n",
        "    imdb_url = f\"https://www.imdb.com/title/tt{imdb_id}/\"\n",
        "    headers = {\n",
        "        'User-Agent': 'Mozilla/5.0 (Windows NT 10.0; Win64; x64; rv:109.0) Gecko/20100101 Firefox/119.0'\n",
        "    }\n",
        "    try:\n",
        "        response = requests.get(imdb_url, headers=headers)\n",
        "        if response.status_code == 200:\n",
        "            soup = BeautifulSoup(response.text, 'html.parser')\n",
        "            script = soup.find('script', type='application/ld+json')\n",
        "            if script:\n",
        "                try:\n",
        "                    json_data = json.loads(script.string)\n",
        "                    rating = json_data.get('aggregateRating', {}).get('ratingValue')\n",
        "                    return float(rating) if rating else np.nan\n",
        "                except json.JSONDecodeError:\n",
        "                    print(f\"Error decoding JSON from IMDb page for ID {imdb_id}.\")\n",
        "        elif response.status_code == 404:\n",
        "            print(f\"IMDb ID {imdb_id} returned 404 error.\")\n",
        "        else:\n",
        "            print(f\"Failed to retrieve page for IMDb ID {imdb_id}. Status code: {response.status_code}\")\n",
        "    except Exception as e:\n",
        "        print(f\"Error retrieving IMDb rating for {imdb_url}: {e}\")\n",
        "\n",
        "    return np.nan"
      ],
      "metadata": {
        "id": "P1t2yDnP2ZUi"
      },
      "execution_count": 58,
      "outputs": []
    },
    {
      "cell_type": "code",
      "source": [
        "# Get IMDb ratings for movies with more than 50 ratings\n",
        "# Create a dictionary to store IMDb ratings for each movieId\n",
        "imdb_ratings = {}\n",
        "for movie_id, imdb_id in links.set_index('movieId')['imdbId'].items():\n",
        "    if movie_id in popular_movies['movieId'].values:\n",
        "        rating = scrape_imdb_rating(imdb_id)\n",
        "        if not np.isnan(rating):\n",
        "            imdb_ratings[movie_id] = rating"
      ],
      "metadata": {
        "id": "f_LJ-gHP2bW7"
      },
      "execution_count": 60,
      "outputs": []
    },
    {
      "cell_type": "code",
      "source": [
        "# Find the movie with the highest IMDb rating\n",
        "# Convert the dictionary to a DataFrame for easier manipulation\n",
        "imdb_ratings_df = pd.DataFrame(list(imdb_ratings.items()), columns=['movieId', 'imdbRating'])\n",
        "\n",
        "# Convert the 'imdbRating' column to numeric\n",
        "imdb_ratings_df['imdbRating'] = pd.to_numeric(imdb_ratings_df['imdbRating'])\n",
        "\n",
        "# Remove NaN values before finding the highest rating\n",
        "imdb_ratings_df = imdb_ratings_df.dropna()\n",
        "\n",
        "highest_imdb_rating_movie_id = imdb_ratings_df.loc[imdb_ratings_df['imdbRating'].idxmax(), 'movieId']\n",
        "highest_imdb_rating_movie = popular_movies_with_titles[popular_movies_with_titles['movieId'] == highest_imdb_rating_movie_id]['title'].values[0]\n",
        "highest_imdb_rating_movie_id, highest_imdb_rating_movie\n"
      ],
      "metadata": {
        "colab": {
          "base_uri": "https://localhost:8080/"
        },
        "id": "P2tsYK9A4hXX",
        "outputId": "ef4818c3-76da-4bd2-e6fc-4a19b0922caa"
      },
      "execution_count": 61,
      "outputs": [
        {
          "output_type": "execute_result",
          "data": {
            "text/plain": [
              "(318, 'Shawshank Redemption, The (1994)')"
            ]
          },
          "metadata": {},
          "execution_count": 61
        }
      ]
    },
    {
      "cell_type": "code",
      "source": [
        "# Find the Sci-Fi movie with the highest IMDb rating\n",
        "# Filter Sci-Fi movies and get their IMDb ratings\n",
        "sci_fi_movies_with_ratings = imdb_ratings_df[imdb_ratings_df['movieId'].isin(sci_fi_movies['movieId'])]\n",
        "if sci_fi_movies_with_ratings.shape[0] > 0:\n",
        "    highest_imdb_sci_fi_movie_id = sci_fi_movies_with_ratings.loc[sci_fi_movies_with_ratings['imdbRating'].idxmax(), 'movieId']\n",
        "    highest_imdb_sci_fi_movie = popular_movies_with_titles[popular_movies_with_titles['movieId'] == highest_imdb_sci_fi_movie_id]['title'].values[0]\n",
        "else:\n",
        "    highest_imdb_sci_fi_movie_id = \"No Sci-Fi movies available\"\n",
        "    highest_imdb_sci_fi_movie = \"No Sci-Fi movies available\"\n",
        "\n",
        "highest_imdb_sci_fi_movie_id, highest_imdb_sci_fi_movie"
      ],
      "metadata": {
        "colab": {
          "base_uri": "https://localhost:8080/"
        },
        "id": "v_8GtVcP4jGc",
        "outputId": "6a4f0f46-827f-4fd4-ea5f-c556df7e1386"
      },
      "execution_count": 62,
      "outputs": [
        {
          "output_type": "execute_result",
          "data": {
            "text/plain": [
              "(79132, 'Inception (2010)')"
            ]
          },
          "metadata": {},
          "execution_count": 62
        }
      ]
    }
  ]
}